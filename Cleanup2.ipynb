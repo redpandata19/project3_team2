{
 "cells": [
  {
   "cell_type": "markdown",
   "id": "0144e82c",
   "metadata": {},
   "source": [
    "# Flight Data Clean Up"
   ]
  },
  {
   "cell_type": "markdown",
   "id": "e17d9b3f",
   "metadata": {},
   "source": [
    "## Load source data into a single dataframe to explore"
   ]
  },
  {
   "cell_type": "code",
   "execution_count": 1,
   "id": "e749c753",
   "metadata": {},
   "outputs": [],
   "source": [
    "# Import Dependencies\n",
    "import pandas as pd\n",
    "from pathlib import Path\n",
    "import glob\n",
    "import zipfile\n",
    "import os\n",
    "import shutil"
   ]
  },
  {
   "cell_type": "code",
   "execution_count": 2,
   "id": "18cf2514",
   "metadata": {},
   "outputs": [
    {
     "name": "stdout",
     "output_type": "stream",
     "text": [
      "Extracted Resources/BTS/BTS_Q1_2023.zip to Resources/BTS/extracted_zips\n",
      "Extracted Resources/BTS/BTS_Q2_2023.zip to Resources/BTS/extracted_zips\n",
      "Extracted Resources/BTS/BTS_Q3_2023.zip to Resources/BTS/extracted_zips\n",
      "Extracted Resources/BTS/BTS_Q4_2023.zip to Resources/BTS/extracted_zips\n"
     ]
    }
   ],
   "source": [
    "# List of all source zips\n",
    "zips = ['Resources/BTS/BTS_Q1_2023.zip','Resources/BTS/BTS_Q2_2023.zip',\n",
    "       'Resources/BTS/BTS_Q3_2023.zip','Resources/BTS/BTS_Q4_2023.zip']\n",
    "\n",
    "# Directory to extract to, confirm it exists\n",
    "extraction_path = 'Resources/BTS/extracted_zips'\n",
    "os.makedirs(extraction_path, exist_ok=True)\n",
    "\n",
    "# Iterate through zips and extract all\n",
    "for zip in zips:\n",
    "    with zipfile.ZipFile(zip, 'r') as zip_ref:\n",
    "        zip_ref.extractall(extraction_path)\n",
    "\n",
    "    print(f\"Extracted {zip} to {extraction_path}\")"
   ]
  },
  {
   "cell_type": "code",
   "execution_count": 3,
   "id": "434d4838",
   "metadata": {},
   "outputs": [
    {
     "data": {
      "text/html": [
       "<div>\n",
       "<style scoped>\n",
       "    .dataframe tbody tr th:only-of-type {\n",
       "        vertical-align: middle;\n",
       "    }\n",
       "\n",
       "    .dataframe tbody tr th {\n",
       "        vertical-align: top;\n",
       "    }\n",
       "\n",
       "    .dataframe thead th {\n",
       "        text-align: right;\n",
       "    }\n",
       "</style>\n",
       "<table border=\"1\" class=\"dataframe\">\n",
       "  <thead>\n",
       "    <tr style=\"text-align: right;\">\n",
       "      <th></th>\n",
       "      <th>Year</th>\n",
       "      <th>Quarter</th>\n",
       "      <th>Month</th>\n",
       "      <th>DayofMonth</th>\n",
       "      <th>DayOfWeek</th>\n",
       "      <th>FlightDate</th>\n",
       "      <th>Marketing_Airline_Network</th>\n",
       "      <th>Operated_or_Branded_Code_Share_Partners</th>\n",
       "      <th>DOT_ID_Marketing_Airline</th>\n",
       "      <th>IATA_Code_Marketing_Airline</th>\n",
       "      <th>...</th>\n",
       "      <th>Div5Airport</th>\n",
       "      <th>Div5AirportID</th>\n",
       "      <th>Div5AirportSeqID</th>\n",
       "      <th>Div5WheelsOn</th>\n",
       "      <th>Div5TotalGTime</th>\n",
       "      <th>Div5LongestGTime</th>\n",
       "      <th>Div5WheelsOff</th>\n",
       "      <th>Div5TailNum</th>\n",
       "      <th>Duplicate</th>\n",
       "      <th>Unnamed: 119</th>\n",
       "    </tr>\n",
       "  </thead>\n",
       "  <tbody>\n",
       "    <tr>\n",
       "      <th>0</th>\n",
       "      <td>2023</td>\n",
       "      <td>1</td>\n",
       "      <td>1</td>\n",
       "      <td>22</td>\n",
       "      <td>7</td>\n",
       "      <td>2023-01-22</td>\n",
       "      <td>B6</td>\n",
       "      <td>B6</td>\n",
       "      <td>20409</td>\n",
       "      <td>B6</td>\n",
       "      <td>...</td>\n",
       "      <td>NaN</td>\n",
       "      <td>NaN</td>\n",
       "      <td>NaN</td>\n",
       "      <td>NaN</td>\n",
       "      <td>NaN</td>\n",
       "      <td>NaN</td>\n",
       "      <td>NaN</td>\n",
       "      <td>NaN</td>\n",
       "      <td>N</td>\n",
       "      <td>NaN</td>\n",
       "    </tr>\n",
       "    <tr>\n",
       "      <th>1</th>\n",
       "      <td>2023</td>\n",
       "      <td>1</td>\n",
       "      <td>1</td>\n",
       "      <td>22</td>\n",
       "      <td>7</td>\n",
       "      <td>2023-01-22</td>\n",
       "      <td>B6</td>\n",
       "      <td>B6</td>\n",
       "      <td>20409</td>\n",
       "      <td>B6</td>\n",
       "      <td>...</td>\n",
       "      <td>NaN</td>\n",
       "      <td>NaN</td>\n",
       "      <td>NaN</td>\n",
       "      <td>NaN</td>\n",
       "      <td>NaN</td>\n",
       "      <td>NaN</td>\n",
       "      <td>NaN</td>\n",
       "      <td>NaN</td>\n",
       "      <td>N</td>\n",
       "      <td>NaN</td>\n",
       "    </tr>\n",
       "    <tr>\n",
       "      <th>2</th>\n",
       "      <td>2023</td>\n",
       "      <td>1</td>\n",
       "      <td>1</td>\n",
       "      <td>22</td>\n",
       "      <td>7</td>\n",
       "      <td>2023-01-22</td>\n",
       "      <td>B6</td>\n",
       "      <td>B6</td>\n",
       "      <td>20409</td>\n",
       "      <td>B6</td>\n",
       "      <td>...</td>\n",
       "      <td>NaN</td>\n",
       "      <td>NaN</td>\n",
       "      <td>NaN</td>\n",
       "      <td>NaN</td>\n",
       "      <td>NaN</td>\n",
       "      <td>NaN</td>\n",
       "      <td>NaN</td>\n",
       "      <td>NaN</td>\n",
       "      <td>N</td>\n",
       "      <td>NaN</td>\n",
       "    </tr>\n",
       "    <tr>\n",
       "      <th>3</th>\n",
       "      <td>2023</td>\n",
       "      <td>1</td>\n",
       "      <td>1</td>\n",
       "      <td>22</td>\n",
       "      <td>7</td>\n",
       "      <td>2023-01-22</td>\n",
       "      <td>B6</td>\n",
       "      <td>B6</td>\n",
       "      <td>20409</td>\n",
       "      <td>B6</td>\n",
       "      <td>...</td>\n",
       "      <td>NaN</td>\n",
       "      <td>NaN</td>\n",
       "      <td>NaN</td>\n",
       "      <td>NaN</td>\n",
       "      <td>NaN</td>\n",
       "      <td>NaN</td>\n",
       "      <td>NaN</td>\n",
       "      <td>NaN</td>\n",
       "      <td>N</td>\n",
       "      <td>NaN</td>\n",
       "    </tr>\n",
       "    <tr>\n",
       "      <th>4</th>\n",
       "      <td>2023</td>\n",
       "      <td>1</td>\n",
       "      <td>1</td>\n",
       "      <td>22</td>\n",
       "      <td>7</td>\n",
       "      <td>2023-01-22</td>\n",
       "      <td>B6</td>\n",
       "      <td>B6</td>\n",
       "      <td>20409</td>\n",
       "      <td>B6</td>\n",
       "      <td>...</td>\n",
       "      <td>NaN</td>\n",
       "      <td>NaN</td>\n",
       "      <td>NaN</td>\n",
       "      <td>NaN</td>\n",
       "      <td>NaN</td>\n",
       "      <td>NaN</td>\n",
       "      <td>NaN</td>\n",
       "      <td>NaN</td>\n",
       "      <td>N</td>\n",
       "      <td>NaN</td>\n",
       "    </tr>\n",
       "  </tbody>\n",
       "</table>\n",
       "<p>5 rows × 120 columns</p>\n",
       "</div>"
      ],
      "text/plain": [
       "   Year  Quarter  Month  DayofMonth  DayOfWeek  FlightDate  \\\n",
       "0  2023        1      1          22          7  2023-01-22   \n",
       "1  2023        1      1          22          7  2023-01-22   \n",
       "2  2023        1      1          22          7  2023-01-22   \n",
       "3  2023        1      1          22          7  2023-01-22   \n",
       "4  2023        1      1          22          7  2023-01-22   \n",
       "\n",
       "  Marketing_Airline_Network Operated_or_Branded_Code_Share_Partners  \\\n",
       "0                        B6                                      B6   \n",
       "1                        B6                                      B6   \n",
       "2                        B6                                      B6   \n",
       "3                        B6                                      B6   \n",
       "4                        B6                                      B6   \n",
       "\n",
       "   DOT_ID_Marketing_Airline IATA_Code_Marketing_Airline  ...  Div5Airport  \\\n",
       "0                     20409                          B6  ...          NaN   \n",
       "1                     20409                          B6  ...          NaN   \n",
       "2                     20409                          B6  ...          NaN   \n",
       "3                     20409                          B6  ...          NaN   \n",
       "4                     20409                          B6  ...          NaN   \n",
       "\n",
       "  Div5AirportID  Div5AirportSeqID Div5WheelsOn  Div5TotalGTime  \\\n",
       "0           NaN               NaN          NaN             NaN   \n",
       "1           NaN               NaN          NaN             NaN   \n",
       "2           NaN               NaN          NaN             NaN   \n",
       "3           NaN               NaN          NaN             NaN   \n",
       "4           NaN               NaN          NaN             NaN   \n",
       "\n",
       "  Div5LongestGTime  Div5WheelsOff Div5TailNum Duplicate  Unnamed: 119  \n",
       "0              NaN            NaN         NaN         N           NaN  \n",
       "1              NaN            NaN         NaN         N           NaN  \n",
       "2              NaN            NaN         NaN         N           NaN  \n",
       "3              NaN            NaN         NaN         N           NaN  \n",
       "4              NaN            NaN         NaN         N           NaN  \n",
       "\n",
       "[5 rows x 120 columns]"
      ]
     },
     "execution_count": 3,
     "metadata": {},
     "output_type": "execute_result"
    }
   ],
   "source": [
    "# Read all extracted CSV's\n",
    "# glob is an efficient way to work through all CSV's in a directory: https://docs.python.org/3/library/glob.html\n",
    "csv_files = glob.glob(f\"{extraction_path}/*.csv\")\n",
    "\n",
    "# Empty list for storing DataFrames\n",
    "dataframes = []\n",
    "\n",
    "# Iterate through csv's and store into DataFrames list\n",
    "for csv_file in csv_files:\n",
    "    df = pd.read_csv(csv_file, low_memory=False)\n",
    "    dataframes.append(df)\n",
    "# Concatenante into single DataFrame\n",
    "unfiltered_flight_info = pd.concat(dataframes, ignore_index = True)\n",
    "unfiltered_flight_info.head()"
   ]
  },
  {
   "cell_type": "code",
   "execution_count": 4,
   "id": "6406ff1f",
   "metadata": {},
   "outputs": [
    {
     "data": {
      "text/html": [
       "<div>\n",
       "<style scoped>\n",
       "    .dataframe tbody tr th:only-of-type {\n",
       "        vertical-align: middle;\n",
       "    }\n",
       "\n",
       "    .dataframe tbody tr th {\n",
       "        vertical-align: top;\n",
       "    }\n",
       "\n",
       "    .dataframe thead th {\n",
       "        text-align: right;\n",
       "    }\n",
       "</style>\n",
       "<table border=\"1\" class=\"dataframe\">\n",
       "  <thead>\n",
       "    <tr style=\"text-align: right;\">\n",
       "      <th></th>\n",
       "      <th>FlightDate</th>\n",
       "      <th>IATA_Code_Marketing_Airline</th>\n",
       "      <th>Operated_or_Branded_Code_Share_Partners</th>\n",
       "      <th>Operating_Airline</th>\n",
       "      <th>Flight_Number_Marketing_Airline</th>\n",
       "      <th>Origin</th>\n",
       "      <th>Dest</th>\n",
       "      <th>DepDelay</th>\n",
       "      <th>DepDelayMinutes</th>\n",
       "      <th>DepDel15</th>\n",
       "      <th>ArrDelay</th>\n",
       "      <th>ArrDelayMinutes</th>\n",
       "      <th>Cancelled</th>\n",
       "      <th>Diverted</th>\n",
       "      <th>CarrierDelay</th>\n",
       "      <th>WeatherDelay</th>\n",
       "      <th>NASDelay</th>\n",
       "      <th>SecurityDelay</th>\n",
       "      <th>LateAircraftDelay</th>\n",
       "    </tr>\n",
       "  </thead>\n",
       "  <tbody>\n",
       "    <tr>\n",
       "      <th>0</th>\n",
       "      <td>2023-01-22</td>\n",
       "      <td>B6</td>\n",
       "      <td>B6</td>\n",
       "      <td>B6</td>\n",
       "      <td>1447</td>\n",
       "      <td>HPN</td>\n",
       "      <td>TPA</td>\n",
       "      <td>-4.0</td>\n",
       "      <td>0.0</td>\n",
       "      <td>0.0</td>\n",
       "      <td>-4.0</td>\n",
       "      <td>0.0</td>\n",
       "      <td>0.0</td>\n",
       "      <td>0.0</td>\n",
       "      <td>NaN</td>\n",
       "      <td>NaN</td>\n",
       "      <td>NaN</td>\n",
       "      <td>NaN</td>\n",
       "      <td>NaN</td>\n",
       "    </tr>\n",
       "    <tr>\n",
       "      <th>1</th>\n",
       "      <td>2023-01-22</td>\n",
       "      <td>B6</td>\n",
       "      <td>B6</td>\n",
       "      <td>B6</td>\n",
       "      <td>1451</td>\n",
       "      <td>BOS</td>\n",
       "      <td>MCO</td>\n",
       "      <td>53.0</td>\n",
       "      <td>53.0</td>\n",
       "      <td>1.0</td>\n",
       "      <td>54.0</td>\n",
       "      <td>54.0</td>\n",
       "      <td>0.0</td>\n",
       "      <td>0.0</td>\n",
       "      <td>39.0</td>\n",
       "      <td>0.0</td>\n",
       "      <td>1.0</td>\n",
       "      <td>0.0</td>\n",
       "      <td>14.0</td>\n",
       "    </tr>\n",
       "    <tr>\n",
       "      <th>2</th>\n",
       "      <td>2023-01-22</td>\n",
       "      <td>B6</td>\n",
       "      <td>B6</td>\n",
       "      <td>B6</td>\n",
       "      <td>1453</td>\n",
       "      <td>FLL</td>\n",
       "      <td>SJU</td>\n",
       "      <td>7.0</td>\n",
       "      <td>7.0</td>\n",
       "      <td>0.0</td>\n",
       "      <td>23.0</td>\n",
       "      <td>23.0</td>\n",
       "      <td>0.0</td>\n",
       "      <td>0.0</td>\n",
       "      <td>7.0</td>\n",
       "      <td>0.0</td>\n",
       "      <td>16.0</td>\n",
       "      <td>0.0</td>\n",
       "      <td>0.0</td>\n",
       "    </tr>\n",
       "    <tr>\n",
       "      <th>3</th>\n",
       "      <td>2023-01-22</td>\n",
       "      <td>B6</td>\n",
       "      <td>B6</td>\n",
       "      <td>B6</td>\n",
       "      <td>1454</td>\n",
       "      <td>SJU</td>\n",
       "      <td>FLL</td>\n",
       "      <td>7.0</td>\n",
       "      <td>7.0</td>\n",
       "      <td>0.0</td>\n",
       "      <td>0.0</td>\n",
       "      <td>0.0</td>\n",
       "      <td>0.0</td>\n",
       "      <td>0.0</td>\n",
       "      <td>NaN</td>\n",
       "      <td>NaN</td>\n",
       "      <td>NaN</td>\n",
       "      <td>NaN</td>\n",
       "      <td>NaN</td>\n",
       "    </tr>\n",
       "    <tr>\n",
       "      <th>4</th>\n",
       "      <td>2023-01-22</td>\n",
       "      <td>B6</td>\n",
       "      <td>B6</td>\n",
       "      <td>B6</td>\n",
       "      <td>1455</td>\n",
       "      <td>BOS</td>\n",
       "      <td>DCA</td>\n",
       "      <td>-8.0</td>\n",
       "      <td>0.0</td>\n",
       "      <td>0.0</td>\n",
       "      <td>-17.0</td>\n",
       "      <td>0.0</td>\n",
       "      <td>0.0</td>\n",
       "      <td>0.0</td>\n",
       "      <td>NaN</td>\n",
       "      <td>NaN</td>\n",
       "      <td>NaN</td>\n",
       "      <td>NaN</td>\n",
       "      <td>NaN</td>\n",
       "    </tr>\n",
       "  </tbody>\n",
       "</table>\n",
       "</div>"
      ],
      "text/plain": [
       "   FlightDate IATA_Code_Marketing_Airline  \\\n",
       "0  2023-01-22                          B6   \n",
       "1  2023-01-22                          B6   \n",
       "2  2023-01-22                          B6   \n",
       "3  2023-01-22                          B6   \n",
       "4  2023-01-22                          B6   \n",
       "\n",
       "  Operated_or_Branded_Code_Share_Partners Operating_Airline   \\\n",
       "0                                      B6                 B6   \n",
       "1                                      B6                 B6   \n",
       "2                                      B6                 B6   \n",
       "3                                      B6                 B6   \n",
       "4                                      B6                 B6   \n",
       "\n",
       "   Flight_Number_Marketing_Airline Origin Dest  DepDelay  DepDelayMinutes  \\\n",
       "0                             1447    HPN  TPA      -4.0              0.0   \n",
       "1                             1451    BOS  MCO      53.0             53.0   \n",
       "2                             1453    FLL  SJU       7.0              7.0   \n",
       "3                             1454    SJU  FLL       7.0              7.0   \n",
       "4                             1455    BOS  DCA      -8.0              0.0   \n",
       "\n",
       "   DepDel15  ArrDelay  ArrDelayMinutes  Cancelled  Diverted  CarrierDelay  \\\n",
       "0       0.0      -4.0              0.0        0.0       0.0           NaN   \n",
       "1       1.0      54.0             54.0        0.0       0.0          39.0   \n",
       "2       0.0      23.0             23.0        0.0       0.0           7.0   \n",
       "3       0.0       0.0              0.0        0.0       0.0           NaN   \n",
       "4       0.0     -17.0              0.0        0.0       0.0           NaN   \n",
       "\n",
       "   WeatherDelay  NASDelay  SecurityDelay  LateAircraftDelay  \n",
       "0           NaN       NaN            NaN                NaN  \n",
       "1           0.0       1.0            0.0               14.0  \n",
       "2           0.0      16.0            0.0                0.0  \n",
       "3           NaN       NaN            NaN                NaN  \n",
       "4           NaN       NaN            NaN                NaN  "
      ]
     },
     "execution_count": 4,
     "metadata": {},
     "output_type": "execute_result"
    }
   ],
   "source": [
    "# Specify columns and remove limitation on display\n",
    "pd.set_option('display.max_columns', None)\n",
    "flights_df = pd.DataFrame(unfiltered_flight_info[['FlightDate','IATA_Code_Marketing_Airline', \n",
    "                                                  'Operated_or_Branded_Code_Share_Partners',\n",
    "                                                  'Operating_Airline ','Flight_Number_Marketing_Airline',\n",
    "                                                  'Origin','Dest','DepDelay','DepDelayMinutes',\n",
    "                                                  'DepDel15','ArrDelay','ArrDelayMinutes','Cancelled',\n",
    "                                                  'Diverted','CarrierDelay','WeatherDelay','NASDelay',\n",
    "                                                  'SecurityDelay','LateAircraftDelay']])\n",
    "flights_df.head()"
   ]
  },
  {
   "cell_type": "code",
   "execution_count": 5,
   "id": "2c807325",
   "metadata": {},
   "outputs": [
    {
     "name": "stdout",
     "output_type": "stream",
     "text": [
      "Directory Resources/BTS/extracted_zips and all its contents have been deleted.\n"
     ]
    }
   ],
   "source": [
    "# Empty and delete the extraction_path directory\n",
    "try:\n",
    "    shutil.rmtree(extraction_path)\n",
    "    print(f\"Directory {extraction_path} and all its contents have been deleted.\")\n",
    "except OSError as e:\n",
    "    print(f\"Error: {e.strerror}\")"
   ]
  },
  {
   "cell_type": "markdown",
   "id": "84055094",
   "metadata": {},
   "source": [
    "## Explore and filter flights and airports to matching data"
   ]
  },
  {
   "cell_type": "code",
   "execution_count": 6,
   "id": "84e48bcc",
   "metadata": {},
   "outputs": [
    {
     "data": {
      "text/plain": [
       "359"
      ]
     },
     "execution_count": 6,
     "metadata": {},
     "output_type": "execute_result"
    }
   ],
   "source": [
    "# number of unique origin airports in data\n",
    "origins_df = unfiltered_flight_info[['Origin','OriginCityName']]\n",
    "origins_df['Origin'].nunique()"
   ]
  },
  {
   "cell_type": "code",
   "execution_count": 7,
   "id": "8c4b8747",
   "metadata": {},
   "outputs": [
    {
     "data": {
      "text/plain": [
       "359"
      ]
     },
     "execution_count": 7,
     "metadata": {},
     "output_type": "execute_result"
    }
   ],
   "source": [
    "# number of unique destination airports in data\n",
    "destinations_df = unfiltered_flight_info[['Dest','DestCityName']]\n",
    "destinations_df['Dest'].nunique()"
   ]
  },
  {
   "cell_type": "code",
   "execution_count": 8,
   "id": "1812dd61",
   "metadata": {},
   "outputs": [
    {
     "data": {
      "text/plain": [
       "359"
      ]
     },
     "execution_count": 8,
     "metadata": {},
     "output_type": "execute_result"
    }
   ],
   "source": [
    "# total number of unique airports in data\n",
    "# compare the origin airports to destination airports\n",
    "ori_match = origins_df['Origin'].isin(destinations_df['Dest'])\n",
    "dest_match = destinations_df['Dest'].isin(origins_df['Origin'])\n",
    "ori_dest_match = ori_match | dest_match\n",
    "\n",
    "# only keep rows for airports that are listed in both columns\n",
    "flight_airports = flights_df[ori_dest_match]\n",
    "flight_airports['Origin'].nunique()\n",
    "# confirmed that the same 359 airports have travel data"
   ]
  },
  {
   "cell_type": "code",
   "execution_count": 9,
   "id": "09765e52",
   "metadata": {},
   "outputs": [
    {
     "data": {
      "text/plain": [
       "351"
      ]
     },
     "execution_count": 9,
     "metadata": {},
     "output_type": "execute_result"
    }
   ],
   "source": [
    "# Read in CSV of cleaned us-airports and compare to airports in flight data\n",
    "us_airports = pd.read_csv('Resources/us-airports-cleaned.csv')\n",
    "iata_match = us_airports['iata_code'].isin(flight_airports['Origin'])\n",
    "\n",
    "us_airports_filtered = us_airports[iata_match].reset_index()\n",
    "us_airports_filtered['iata_code'].nunique()"
   ]
  },
  {
   "cell_type": "code",
   "execution_count": 10,
   "id": "5dc621a4",
   "metadata": {},
   "outputs": [
    {
     "data": {
      "text/plain": [
       "array(['SJU', 'STT', 'BQN', 'PSE', 'STX', 'PPG', 'GUM', 'SPN'],\n",
       "      dtype=object)"
      ]
     },
     "execution_count": 10,
     "metadata": {},
     "output_type": "execute_result"
    }
   ],
   "source": [
    "# Which 8 airports do we have data for that our airport list doesn't have?\n",
    "iata_match = flight_airports['Origin'].isin(us_airports_filtered['iata_code'])\n",
    "\n",
    "us_airports_missing = flight_airports[~iata_match]\n",
    "us_airports_missing['Origin'].unique()"
   ]
  },
  {
   "cell_type": "markdown",
   "id": "7f8f7448",
   "metadata": {},
   "source": [
    "Research (Google):\n",
    "SJU, BQM, PSE = Puerto Rico\n",
    "STT,STX, = U.S. Virgin Islands\n",
    "PPG = American Samoa (unincorporated territory)\n",
    "GUM = Guam\n",
    "SPN = Northern Mariana Islands"
   ]
  },
  {
   "cell_type": "code",
   "execution_count": 11,
   "id": "9495126a",
   "metadata": {},
   "outputs": [
    {
     "data": {
      "text/plain": [
       "351"
      ]
     },
     "execution_count": 11,
     "metadata": {},
     "output_type": "execute_result"
    }
   ],
   "source": [
    "# Excluding data from the 8 erroneous airports \n",
    "exclusions = flights_df['Origin'].isin(us_airports_missing['Origin'])\n",
    "\n",
    "filtered_flights = flights_df[~exclusions]\n",
    "filtered_flights['Origin'].nunique()"
   ]
  },
  {
   "cell_type": "code",
   "execution_count": 12,
   "id": "b97d79b8",
   "metadata": {},
   "outputs": [
    {
     "data": {
      "text/plain": [
       "351"
      ]
     },
     "execution_count": 12,
     "metadata": {},
     "output_type": "execute_result"
    }
   ],
   "source": [
    "# Filter airports to just those that have flight data\n",
    "airport_mask = us_airports['iata_code'].isin(filtered_flights['Origin'])\n",
    "\n",
    "us_airports_filtered = pd.DataFrame(us_airports[airport_mask])\n",
    "us_airports_filtered['iata_code'].nunique()"
   ]
  },
  {
   "cell_type": "code",
   "execution_count": 13,
   "id": "d986b2fb",
   "metadata": {},
   "outputs": [
    {
     "data": {
      "text/plain": [
       "type\n",
       "medium_airport    276\n",
       "large_airport      65\n",
       "small_airport      10\n",
       "Name: count, dtype: int64"
      ]
     },
     "execution_count": 13,
     "metadata": {},
     "output_type": "execute_result"
    }
   ],
   "source": [
    "us_airports_filtered['type'].value_counts()"
   ]
  },
  {
   "cell_type": "code",
   "execution_count": 14,
   "id": "118690c4",
   "metadata": {},
   "outputs": [],
   "source": [
    "# Export filtered data sets to CSV\n",
    "us_airports_filtered.to_csv('Resources/us_airports_filtered.csv')\n",
    "filtered_flights.to_csv('Resources/filtered_flights.csv')"
   ]
  },
  {
   "cell_type": "code",
   "execution_count": 15,
   "id": "af78146d",
   "metadata": {},
   "outputs": [
    {
     "name": "stdout",
     "output_type": "stream",
     "text": [
      "The file Resources/filtered_flights.csv has been zipped, is not empty, and has been deleted.\n"
     ]
    }
   ],
   "source": [
    "# # Zip filtered_flights.csv and delete to allow github upload\n",
    "csv_path = 'Resources/filtered_flights.csv'\n",
    "zip_path = 'Resources/filtered_flights.zip'\n",
    "\n",
    "with zipfile.ZipFile(zip_path, 'w', zipfile.ZIP_DEFLATED) as zipf:\n",
    "    zipf.write(csv_path, os.path.basename(csv_path))\n",
    "\n",
    "# Check if the ZIP file exists and the size condition is met\n",
    "if os.path.exists(zip_path):\n",
    "    # Get the size of the ZIP file in bytes\n",
    "    zip_size = os.path.getsize(zip_path)\n",
    "    \n",
    "    # Define the size condition, e.g., file must be larger than 0 bytes to ensure it's not empty\n",
    "    if zip_size > 50:\n",
    "        os.remove(csv_path)\n",
    "        print(f\"The file {csv_path} has been zipped, is not empty, and has been deleted.\")\n",
    "    else:\n",
    "        print(f\"The file {zip_path} is empty.\")\n",
    "else:\n",
    "    print(\"Error: The zip file was not created successfully.\")"
   ]
  },
  {
   "cell_type": "markdown",
   "id": "003789f2",
   "metadata": {},
   "source": [
    "## Identify Airlines"
   ]
  },
  {
   "cell_type": "code",
   "execution_count": 39,
   "id": "80066954",
   "metadata": {},
   "outputs": [
    {
     "data": {
      "text/plain": [
       "['AA', 'DL', 'WN', 'UA', 'AS', 'B6', 'NK', 'F9', 'G4', 'HA']"
      ]
     },
     "execution_count": 39,
     "metadata": {},
     "output_type": "execute_result"
    }
   ],
   "source": [
    "# Identify unique IATA codes and store in a list in order of frequency\n",
    "airline_IATA_codes = filtered_flights['IATA_Code_Marketing_Airline'].value_counts().index.to_list()\n",
    "airline_IATA_codes"
   ]
  },
  {
   "cell_type": "code",
   "execution_count": 42,
   "id": "3fc66d9e",
   "metadata": {},
   "outputs": [
    {
     "data": {
      "text/html": [
       "<div>\n",
       "<style scoped>\n",
       "    .dataframe tbody tr th:only-of-type {\n",
       "        vertical-align: middle;\n",
       "    }\n",
       "\n",
       "    .dataframe tbody tr th {\n",
       "        vertical-align: top;\n",
       "    }\n",
       "\n",
       "    .dataframe thead th {\n",
       "        text-align: right;\n",
       "    }\n",
       "</style>\n",
       "<table border=\"1\" class=\"dataframe\">\n",
       "  <thead>\n",
       "    <tr style=\"text-align: right;\">\n",
       "      <th></th>\n",
       "      <th>airline_IATA_code</th>\n",
       "      <th>airline_name</th>\n",
       "    </tr>\n",
       "  </thead>\n",
       "  <tbody>\n",
       "    <tr>\n",
       "      <th>0</th>\n",
       "      <td>AA</td>\n",
       "      <td>American Airlines</td>\n",
       "    </tr>\n",
       "    <tr>\n",
       "      <th>1</th>\n",
       "      <td>DL</td>\n",
       "      <td>Delta Airlines</td>\n",
       "    </tr>\n",
       "    <tr>\n",
       "      <th>2</th>\n",
       "      <td>WN</td>\n",
       "      <td>Southwest Airlines</td>\n",
       "    </tr>\n",
       "    <tr>\n",
       "      <th>3</th>\n",
       "      <td>UA</td>\n",
       "      <td>United Airlines</td>\n",
       "    </tr>\n",
       "    <tr>\n",
       "      <th>4</th>\n",
       "      <td>AS</td>\n",
       "      <td>Alaska Airlines</td>\n",
       "    </tr>\n",
       "    <tr>\n",
       "      <th>5</th>\n",
       "      <td>B6</td>\n",
       "      <td>JetBlue</td>\n",
       "    </tr>\n",
       "    <tr>\n",
       "      <th>6</th>\n",
       "      <td>NK</td>\n",
       "      <td>Spirit Airlines</td>\n",
       "    </tr>\n",
       "    <tr>\n",
       "      <th>7</th>\n",
       "      <td>F9</td>\n",
       "      <td>Frontier Airlines</td>\n",
       "    </tr>\n",
       "    <tr>\n",
       "      <th>8</th>\n",
       "      <td>G4</td>\n",
       "      <td>Allegiant Air</td>\n",
       "    </tr>\n",
       "    <tr>\n",
       "      <th>9</th>\n",
       "      <td>HA</td>\n",
       "      <td>Hawaiian Airlines</td>\n",
       "    </tr>\n",
       "  </tbody>\n",
       "</table>\n",
       "</div>"
      ],
      "text/plain": [
       "  airline_IATA_code        airline_name\n",
       "0                AA   American Airlines\n",
       "1                DL      Delta Airlines\n",
       "2                WN  Southwest Airlines\n",
       "3                UA     United Airlines\n",
       "4                AS     Alaska Airlines\n",
       "5                B6             JetBlue\n",
       "6                NK     Spirit Airlines\n",
       "7                F9   Frontier Airlines\n",
       "8                G4       Allegiant Air\n",
       "9                HA   Hawaiian Airlines"
      ]
     },
     "execution_count": 42,
     "metadata": {},
     "output_type": "execute_result"
    }
   ],
   "source": [
    "# Identify airlines and make list in matching order \n",
    "# Source: https://www.iata.org/en/publications/directories/code-search/\n",
    "airline_names = ['American Airlines','Delta Airlines','Southwest Airlines','United Airlines',\n",
    "                 'Alaska Airlines','JetBlue','Spirit Airlines','Frontier Airlines','Allegiant Air',\n",
    "                 'Hawaiian Airlines']\n",
    "# Build dictionary of IATA_codes and airline names to turn into a data frame\n",
    "airline_data = {'airline_IATA_code':airline_IATA_codes,\n",
    "               'airline_name':airline_names}"
   ]
  },
  {
   "cell_type": "code",
   "execution_count": 43,
   "id": "88aabde4",
   "metadata": {},
   "outputs": [
    {
     "data": {
      "text/html": [
       "<div>\n",
       "<style scoped>\n",
       "    .dataframe tbody tr th:only-of-type {\n",
       "        vertical-align: middle;\n",
       "    }\n",
       "\n",
       "    .dataframe tbody tr th {\n",
       "        vertical-align: top;\n",
       "    }\n",
       "\n",
       "    .dataframe thead th {\n",
       "        text-align: right;\n",
       "    }\n",
       "</style>\n",
       "<table border=\"1\" class=\"dataframe\">\n",
       "  <thead>\n",
       "    <tr style=\"text-align: right;\">\n",
       "      <th></th>\n",
       "      <th>airline_IATA_code</th>\n",
       "      <th>airline_name</th>\n",
       "    </tr>\n",
       "  </thead>\n",
       "  <tbody>\n",
       "    <tr>\n",
       "      <th>0</th>\n",
       "      <td>AA</td>\n",
       "      <td>American Airlines</td>\n",
       "    </tr>\n",
       "    <tr>\n",
       "      <th>1</th>\n",
       "      <td>DL</td>\n",
       "      <td>Delta Airlines</td>\n",
       "    </tr>\n",
       "    <tr>\n",
       "      <th>2</th>\n",
       "      <td>WN</td>\n",
       "      <td>Southwest Airlines</td>\n",
       "    </tr>\n",
       "    <tr>\n",
       "      <th>3</th>\n",
       "      <td>UA</td>\n",
       "      <td>United Airlines</td>\n",
       "    </tr>\n",
       "    <tr>\n",
       "      <th>4</th>\n",
       "      <td>AS</td>\n",
       "      <td>Alaska Airlines</td>\n",
       "    </tr>\n",
       "    <tr>\n",
       "      <th>5</th>\n",
       "      <td>B6</td>\n",
       "      <td>JetBlue</td>\n",
       "    </tr>\n",
       "    <tr>\n",
       "      <th>6</th>\n",
       "      <td>NK</td>\n",
       "      <td>Spirit Airlines</td>\n",
       "    </tr>\n",
       "    <tr>\n",
       "      <th>7</th>\n",
       "      <td>F9</td>\n",
       "      <td>Frontier Airlines</td>\n",
       "    </tr>\n",
       "    <tr>\n",
       "      <th>8</th>\n",
       "      <td>G4</td>\n",
       "      <td>Allegiant Air</td>\n",
       "    </tr>\n",
       "    <tr>\n",
       "      <th>9</th>\n",
       "      <td>HA</td>\n",
       "      <td>Hawaiian Airlines</td>\n",
       "    </tr>\n",
       "  </tbody>\n",
       "</table>\n",
       "</div>"
      ],
      "text/plain": [
       "  airline_IATA_code        airline_name\n",
       "0                AA   American Airlines\n",
       "1                DL      Delta Airlines\n",
       "2                WN  Southwest Airlines\n",
       "3                UA     United Airlines\n",
       "4                AS     Alaska Airlines\n",
       "5                B6             JetBlue\n",
       "6                NK     Spirit Airlines\n",
       "7                F9   Frontier Airlines\n",
       "8                G4       Allegiant Air\n",
       "9                HA   Hawaiian Airlines"
      ]
     },
     "execution_count": 43,
     "metadata": {},
     "output_type": "execute_result"
    }
   ],
   "source": [
    "# create dataframe\n",
    "airline_df = pd.DataFrame(airline_data)\n",
    "airline_df"
   ]
  },
  {
   "cell_type": "code",
   "execution_count": 44,
   "id": "c7d1aac8",
   "metadata": {},
   "outputs": [],
   "source": [
    "# Export to CSV\n",
    "airline_df.to_csv('Resources/airlines.csv')"
   ]
  },
  {
   "cell_type": "code",
   "execution_count": null,
   "id": "41627855",
   "metadata": {},
   "outputs": [],
   "source": [
    "## Get city of airport from the flight data and insert into airport information for SQL"
   ]
  }
 ],
 "metadata": {
  "kernelspec": {
   "display_name": "Python 3 (ipykernel)",
   "language": "python",
   "name": "python3"
  },
  "language_info": {
   "codemirror_mode": {
    "name": "ipython",
    "version": 3
   },
   "file_extension": ".py",
   "mimetype": "text/x-python",
   "name": "python",
   "nbconvert_exporter": "python",
   "pygments_lexer": "ipython3",
   "version": "3.10.13"
  }
 },
 "nbformat": 4,
 "nbformat_minor": 5
}
